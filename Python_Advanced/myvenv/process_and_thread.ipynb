{
 "cells": [
  {
   "cell_type": "code",
   "execution_count": 1,
   "metadata": {},
   "outputs": [
    {
     "name": "stdout",
     "output_type": "stream",
     "text": [
      "[main] start\n",
      "[sub] start[main] 메인 스레드는 자기 할 일을 합니다.\n",
      "[main] end\n",
      "\n",
      "[sub] 검색어를 입력하세요 >>>"
     ]
    },
    {
     "name": "stderr",
     "output_type": "stream",
     "text": [
      "Exception in thread Thread-4:\n",
      "Traceback (most recent call last):\n",
      "  File \"/usr/local/Caskroom/miniforge/base/lib/python3.9/threading.py\", line 954, in _bootstrap_inner\n",
      "    self.run()\n",
      "  File \"/usr/local/Caskroom/miniforge/base/lib/python3.9/threading.py\", line 892, in run\n",
      "    self._target(*self._args, **self._kwargs)\n",
      "  File \"<ipython-input-1-81d7e1ff4b06>\", line 6, in work\n",
      "EOFError: EOF when reading a line\n"
     ]
    }
   ],
   "source": [
    "import threading\n",
    "\n",
    "# 서브스레드에서 실행할 함수\n",
    "def work():\n",
    "    print(\"[sub] start\")\n",
    "    keyword = input(\"[sub] 검색어를 입력하세요 >>>\")\n",
    "    print(f\"[sub] {keyword}로 검색을 시작합니다...\")\n",
    "    print(\"[sub] end\")\n",
    "\n",
    "# 메인스레드에서 실행되는 부분\n",
    "print(\"[main] start\")\n",
    "\n",
    "worker = threading.Thread(target=work)\n",
    "worker.start()\n",
    "\n",
    "print(\"[main] 메인 스레드는 자기 할 일을 합니다.\")\n",
    "print(\"[main] end\")"
   ]
  }
 ],
 "metadata": {
  "interpreter": {
   "hash": "737adab86a857289fc3bb162d0b4f640b26cc80f7c2ae1cce2eb6b9aa0f64168"
  },
  "kernelspec": {
   "display_name": "Python 3.9.4 64-bit ('base': conda)",
   "name": "python3"
  },
  "language_info": {
   "codemirror_mode": {
    "name": "ipython",
    "version": 3
   },
   "file_extension": ".py",
   "mimetype": "text/x-python",
   "name": "python",
   "nbconvert_exporter": "python",
   "pygments_lexer": "ipython3",
   "version": "3.9.4"
  },
  "orig_nbformat": 4
 },
 "nbformat": 4,
 "nbformat_minor": 2
}