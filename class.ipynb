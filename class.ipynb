{
 "cells": [
  {
   "cell_type": "code",
   "execution_count": 19,
   "metadata": {},
   "outputs": [
    {
     "name": "stdout",
     "output_type": "stream",
     "text": [
      "Testing python class\n"
     ]
    }
   ],
   "source": [
    "# class\n",
    "\n",
    "class Test():\n",
    "    def say(self):\n",
    "        print('Testing python class')\n",
    "\n",
    "test_isntance = Test()\n",
    "test_isntance.say()"
   ]
  },
  {
   "cell_type": "code",
   "execution_count": 22,
   "metadata": {},
   "outputs": [
    {
     "name": "stdout",
     "output_type": "stream",
     "text": [
      "<class 'int'>\n",
      "<class 'str'>\n",
      "<class 'bool'>\n"
     ]
    }
   ],
   "source": [
    "# 파이썬에서는 자료형도 클래스다 !\n",
    "\n",
    "a = 10\n",
    "b = '문자열 객체'\n",
    "c = True\n",
    "\n",
    "print(type(a))\n",
    "print(type(b))\n",
    "print(type(c))"
   ]
  },
  {
   "cell_type": "code",
   "execution_count": 24,
   "metadata": {},
   "outputs": [
    {
     "name": "stdout",
     "output_type": "stream",
     "text": [
      "['__repr__', '__hash__', '__getattribute__', '__lt__', '__le__', '__eq__', '__ne__', '__gt__', '__ge__', '__add__', '__radd__', '__sub__', '__rsub__', '__mul__', '__rmul__', '__mod__', '__rmod__', '__divmod__', '__rdivmod__', '__pow__', '__rpow__', '__neg__', '__pos__', '__abs__', '__bool__', '__invert__', '__lshift__', '__rlshift__', '__rshift__', '__rrshift__', '__and__', '__rand__', '__xor__', '__rxor__', '__or__', '__ror__', '__int__', '__float__', '__floordiv__', '__rfloordiv__', '__truediv__', '__rtruediv__', '__index__', '__new__', 'conjugate', 'bit_length', 'to_bytes', 'from_bytes', 'as_integer_ratio', '__trunc__', '__floor__', '__ceil__', '__round__', '__getnewargs__', '__format__', '__sizeof__', 'real', 'imag', 'numerator', 'denominator', '__doc__', '__str__', '__setattr__', '__delattr__', '__init__', '__reduce_ex__', '__reduce__', '__subclasshook__', '__init_subclass__', '__dir__', '__class__']\n",
      "========\n",
      "['__repr__', '__hash__', '__str__', '__getattribute__', '__lt__', '__le__', '__eq__', '__ne__', '__gt__', '__ge__', '__iter__', '__mod__', '__rmod__', '__len__', '__getitem__', '__add__', '__mul__', '__rmul__', '__contains__', '__new__', 'encode', 'replace', 'split', 'rsplit', 'join', 'capitalize', 'casefold', 'title', 'center', 'count', 'expandtabs', 'find', 'partition', 'index', 'ljust', 'lower', 'lstrip', 'rfind', 'rindex', 'rjust', 'rstrip', 'rpartition', 'splitlines', 'strip', 'swapcase', 'translate', 'upper', 'startswith', 'endswith', 'removeprefix', 'removesuffix', 'isascii', 'islower', 'isupper', 'istitle', 'isspace', 'isdecimal', 'isdigit', 'isnumeric', 'isalpha', 'isalnum', 'isidentifier', 'isprintable', 'zfill', 'format', 'format_map', '__format__', 'maketrans', '__sizeof__', '__getnewargs__', '__doc__', '__setattr__', '__delattr__', '__init__', '__reduce_ex__', '__reduce__', '__subclasshook__', '__init_subclass__', '__dir__', '__class__']\n",
      "========\n",
      "['__repr__', '__and__', '__rand__', '__xor__', '__rxor__', '__or__', '__ror__', '__new__', '__doc__', '__hash__', '__getattribute__', '__lt__', '__le__', '__eq__', '__ne__', '__gt__', '__ge__', '__add__', '__radd__', '__sub__', '__rsub__', '__mul__', '__rmul__', '__mod__', '__rmod__', '__divmod__', '__rdivmod__', '__pow__', '__rpow__', '__neg__', '__pos__', '__abs__', '__bool__', '__invert__', '__lshift__', '__rlshift__', '__rshift__', '__rrshift__', '__int__', '__float__', '__floordiv__', '__rfloordiv__', '__truediv__', '__rtruediv__', '__index__', 'conjugate', 'bit_length', 'to_bytes', 'from_bytes', 'as_integer_ratio', '__trunc__', '__floor__', '__ceil__', '__round__', '__getnewargs__', '__format__', '__sizeof__', 'real', 'imag', 'numerator', 'denominator', '__str__', '__setattr__', '__delattr__', '__init__', '__reduce_ex__', '__reduce__', '__subclasshook__', '__init_subclass__', '__dir__', '__class__']\n"
     ]
    }
   ],
   "source": [
    "print(a.__dir__()) # int class에서 사용할 수 있는 method\n",
    "print(\"========\")\n",
    "print(b.__dir__()) # str class에서 사용할 수 있는 method\n",
    "print(\"========\")\n",
    "print(c.__dir__()) # boolean class에서 사용할 수 있는 method\n"
   ]
  },
  {
   "cell_type": "code",
   "execution_count": 7,
   "metadata": {},
   "outputs": [
    {
     "name": "stdout",
     "output_type": "stream",
     "text": [
      "800\n",
      "700\n"
     ]
    }
   ],
   "source": [
    "# class에 속성(attribute)과 메서드(method)를 추가해보자!\n",
    "# __init__은 instance를 만들때 반드시 호출되는 메서드 (생성자)\n",
    "# self는 instance 자기 자신을 뜻함\n",
    "# instance를 생성할 때, 해당 instance가 self자리에 들어간다고 생각하면 됨\n",
    "\n",
    "# 생성자\n",
    "# 인스턴스를 만들 때 호출되는 메서드 (__init__)\n",
    "# 참고: 객체가 인스턴스를 포함하는 개념\n",
    "# 인스턴스는 프로그램이 동작할 때 객체가 만들어지는 시점의 객체를 인스턴스라고 부름\n",
    "\n",
    "\n",
    "class Monster:\n",
    "    def __init__(self, health, attack, speed):\n",
    "        self.health = health\n",
    "        self.attack = attack\n",
    "        self.speed = speed\n",
    "\n",
    "    def decrease_health(self, num):\n",
    "        self.health -= num\n",
    "    \n",
    "    def get_health(self):\n",
    "        return self.health\n",
    "\n",
    "goblin = Monster(800, 120, 300)\n",
    "wolf = Monster(1500, 200, 350)\n",
    "\n",
    "print(goblin.get_health())\n",
    "goblin.decrease_health(100)\n",
    "print(goblin.get_health())\n"
   ]
  },
  {
   "cell_type": "code",
   "execution_count": 8,
   "metadata": {},
   "outputs": [
    {
     "name": "stdout",
     "output_type": "stream",
     "text": [
      "[울프] 지상에서 이동하기\n",
      "[샤크] 헤엄치기\n",
      "[드래곤] 날기\n"
     ]
    }
   ],
   "source": [
    "# 상속: 클래스들의 중복을 제거하고 유지보수를 편하게 하기위해 사용.\n",
    "# 자식클래스가 부모클래스의 속성과 메서드를 가져올 수 있음\n",
    "# 메서드 오버라이딩: 부모 클래스의 메서드를 자식 클래스에서 재정의\n",
    "\n",
    "class Monster:\n",
    "    def __init__(self, name, health, attack):\n",
    "        self.name = name\n",
    "        self.health = health\n",
    "        self.attack = attack\n",
    "        \n",
    "    def move(self):\n",
    "        print(f\"[{self.name}] 지상에서 이동하기\")\n",
    "\n",
    "class Wolf(Monster):\n",
    "    pass\n",
    "\n",
    "class Shark(Monster):\n",
    "    # method overriding\n",
    "    def move(self):\n",
    "        print(f\"[{self.name}] 헤엄치기\")\n",
    "\n",
    "class Dragon(Monster):\n",
    "    # method overriding\n",
    "    def move(self):\n",
    "        print(f\"[{self.name}] 날기\")\n",
    "\n",
    "wolf = Wolf(\"울프\", 1000, 100)\n",
    "wolf.move()\n",
    "\n",
    "shark = Shark(\"샤크\", 3000, 200)\n",
    "shark.move()\n",
    "\n",
    "dragon = Dragon(\"드래곤\", 8000, 800)\n",
    "dragon.move()"
   ]
  },
  {
   "cell_type": "code",
   "execution_count": 12,
   "metadata": {},
   "outputs": [
    {
     "name": "stdout",
     "output_type": "stream",
     "text": [
      "[울프] 지상에서 이동하기\n",
      "999\n",
      "[샤크] 헤엄치기\n",
      "998\n",
      "[드래곤] 날기\n",
      "[드래곤] 스킬사용!! 불뿜기!!!\n",
      "997\n"
     ]
    }
   ],
   "source": [
    "import random\n",
    "\n",
    "# 오버라이딩\n",
    "# 클래스 변수: 인스턴스들이 모두 공유하는 변수\n",
    "\n",
    "\n",
    "class Monster:\n",
    "    max_num = 1000;\n",
    "    def __init__(self, name, health, attack):\n",
    "        self.name = name\n",
    "        self.health = health\n",
    "        self.attack = attack\n",
    "        Monster.max_num -= 1 # 클래스 변수를 쓸 때는 self안씀\n",
    "        \n",
    "    def move(self):\n",
    "        print(f\"[{self.name}] 지상에서 이동하기\")\n",
    "\n",
    "class Wolf(Monster):\n",
    "    pass\n",
    "\n",
    "class Shark(Monster):\n",
    "    # method overriding\n",
    "    def move(self):\n",
    "        print(f\"[{self.name}] 헤엄치기\")\n",
    "\n",
    "class Dragon(Monster):\n",
    "    # 생성자 오버라이딩\n",
    "    def __init__(self, name, health, attack):\n",
    "        super().__init__(name, health, attack) # 부모클래스의 생성자를 상속\n",
    "        self.skills = (\"불뿜기\", \"꼬리치기\", \"날개치기\") # 추가되는 것만\n",
    "\n",
    "    # method overriding\n",
    "    def move(self):\n",
    "        print(f\"[{self.name}] 날기\")\n",
    "\n",
    "    def skill(self):\n",
    "        print(f\"[{self.name}] 스킬사용!! {self.skills[random.randint(0, 2)]}!!!\")\n",
    "\n",
    "wolf = Wolf(\"울프\", 1000, 100)\n",
    "wolf.move()\n",
    "print(wolf.max_num)\n",
    "\n",
    "shark = Shark(\"샤크\", 3000, 200)\n",
    "shark.move()\n",
    "print(shark.max_num)\n",
    "\n",
    "dragon = Dragon(\"드래곤\", 8000, 800)\n",
    "dragon.move()\n",
    "dragon.skill()\n",
    "print(dragon.max_num)"
   ]
  },
  {
   "cell_type": "markdown",
   "metadata": {},
   "source": [
    "### 실습문제\n",
    "영철은 스타트게임즈 회사에 개발자로 취직을 하게 되었다. 지난주 회의 결과로 신작MMORPG 게임의 아이템 구성안을 만들었다.\n",
    "\n",
    "- 아이템 공통: 이름, 가격, 무게, 판매하기, 버리기\n",
    "- 장비 아이템: 착용효과, 착용하기\n",
    "- 소모품 아이템: 사용효과, 사용하기\n",
    "(단, 버리기는 버릴 수 있는 아이템만 가능하다.)\n",
    "\n",
    "그리고 구성안을 토대로 클래스 다이어그램을 설계하였다.\n",
    "\n",
    "<img src=\"class_diagram.png\" width=70%>\n",
    "\n",
    "구성안과 설계도를 보고 클래스를 코드로 완성해보자."
   ]
  },
  {
   "cell_type": "code",
   "execution_count": null,
   "metadata": {},
   "outputs": [],
   "source": []
  }
 ],
 "metadata": {
  "interpreter": {
   "hash": "737adab86a857289fc3bb162d0b4f640b26cc80f7c2ae1cce2eb6b9aa0f64168"
  },
  "kernelspec": {
   "display_name": "Python 3.9.4 64-bit ('base': conda)",
   "name": "python3"
  },
  "language_info": {
   "codemirror_mode": {
    "name": "ipython",
    "version": 3
   },
   "file_extension": ".py",
   "mimetype": "text/x-python",
   "name": "python",
   "nbconvert_exporter": "python",
   "pygments_lexer": "ipython3",
   "version": "3.9.4"
  },
  "orig_nbformat": 4
 },
 "nbformat": 4,
 "nbformat_minor": 2
}