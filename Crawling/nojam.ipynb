{
 "cells": [
  {
   "cell_type": "code",
   "execution_count": 30,
   "metadata": {},
   "outputs": [
    {
     "data": {
      "text/plain": [
       "'미'"
      ]
     },
     "execution_count": 30,
     "metadata": {},
     "output_type": "execute_result"
    }
   ],
   "source": [
    "import requests as req\n",
    "\n",
    "res = req.get('https://finance.naver.com/marketindex/?tabSel=exchange#tab_section')\n",
    "html = res.text\n",
    "\n",
    "pos = html.find('미국 USD')\n",
    "\n",
    "html[pos]"
   ]
  },
  {
   "cell_type": "code",
   "execution_count": 31,
   "metadata": {},
   "outputs": [
    {
     "name": "stdout",
     "output_type": "stream",
     "text": [
      "<re.Match object; span=(0, 14), match='이 영화는 K등급 입니다.'>\n",
      "[('영화', 'K')]\n"
     ]
    }
   ],
   "source": [
    "import re\n",
    "\n",
    "s = '이 영화는 K등급 입니다.'\n",
    "# compile 안하고 바로 하는 방법\n",
    "print(re.match(r'이 영화는 [A-Z]등급 입니다.', s))\n",
    "\n",
    "print(re.findall(r'이 (..)는 (.)등급 입니다.', s))"
   ]
  },
  {
   "cell_type": "code",
   "execution_count": 32,
   "metadata": {},
   "outputs": [
    {
     "name": "stdout",
     "output_type": "stream",
     "text": [
      "NAVER\n"
     ]
    }
   ],
   "source": [
    "from bs4 import BeautifulSoup as bs\n",
    "import requests as req\n",
    "\n",
    "url = \"https://naver.com\"\n",
    "\n",
    "res = req.get(url)\n",
    "soup = bs(res.text, 'html.parser')\n",
    "\n",
    "print(soup.title.string)"
   ]
  },
  {
   "cell_type": "code",
   "execution_count": 33,
   "metadata": {},
   "outputs": [
    {
     "data": {
      "text/plain": [
       "[<td>0.70</td>,\n",
       " <td><img alt=\"보합\" height=\"6\" src=\"https://ssl.pstatic.net/static/nfinance/ico_same2.gif\" width=\"7\"/> 0.00</td>,\n",
       " <td>0.57</td>,\n",
       " <td><img alt=\"보합\" height=\"6\" src=\"https://ssl.pstatic.net/static/nfinance/ico_same2.gif\" width=\"7\"/> 0.00</td>,\n",
       " <td>1.41</td>,\n",
       " <td><img alt=\"상승\" height=\"6\" src=\"https://ssl.pstatic.net/static/nfinance/ico_up.gif\" width=\"7\"/> 0.03</td>,\n",
       " <td>1.85</td>,\n",
       " <td><img alt=\"상승\" height=\"6\" src=\"https://ssl.pstatic.net/static/nfinance/ico_up.gif\" width=\"7\"/> 0.02</td>,\n",
       " <td>1.02</td>,\n",
       " <td><img alt=\"보합\" height=\"6\" src=\"https://ssl.pstatic.net/static/nfinance/ico_same2.gif\" width=\"7\"/> 0.00</td>,\n",
       " <td>0.92</td>,\n",
       " <td><img alt=\"상승\" height=\"6\" src=\"https://ssl.pstatic.net/static/nfinance/ico_up.gif\" width=\"7\"/> 0.10</td>,\n",
       " <td>92.3100</td>,\n",
       " <td><img alt=\"하락\" height=\"6\" src=\"https://ssl.pstatic.net/static/nfinance/ico_down.gif\" width=\"7\"/>  0.1200</td>]"
      ]
     },
     "execution_count": 33,
     "metadata": {},
     "output_type": "execute_result"
    }
   ],
   "source": [
    "# 네이버 증권\n",
    "url = 'https://finance.naver.com/marketindex/?tabSel=exchange#tab_section'\n",
    "res = req.get(url) # url으로 http를 가져오고\n",
    "soup = bs(res.text, 'html.parser') # 그걸 html로 parsing\n",
    "\n",
    "soup.find_all(\"td\")"
   ]
  },
  {
   "cell_type": "code",
   "execution_count": 61,
   "metadata": {},
   "outputs": [
    {
     "name": "stdout",
     "output_type": "stream",
     "text": [
      "['미국 USD', '유럽연합 EUR', '일본 JPY (100엔)', '중국 CNY', '홍콩 HKD', '대만 TWD', '영국 GBP', '오만 OMR', '캐나다 CAD', '스위스 CHF', '스웨덴 SEK', '호주 AUD', '뉴질랜드 NZD', '체코 CZK', '칠레 CLP', '터키 TRY', '몽골 MNT', '이스라엘 ILS', '덴마크 DKK', '노르웨이 NOK', '사우디아라비아 SAR', '쿠웨이트 KWD', '바레인 BHD', '아랍에미리트 AED', '요르단 JOD', '이집트 EGP', '태국 THB', '싱가포르 SGD', '말레이시아 MYR', '인도네시아 IDR 100', '카타르 QAR', '카자흐스탄 KZT', '브루나이 BND', '인도 INR', '파키스탄 PKR', '방글라데시 BDT', '필리핀 PHP', '멕시코 MXN', '브라질 BRL', '베트남 VND 100', '남아프리카 공화국 ZAR', '러시아 RUB', '헝가리 HUF', '폴란드 PLN']\n",
      "['1,150.30', '1,362.42', '1,048.25', '177.21', '147.90', '41.14', '1,599.43', '2,987.87', '918.40', '1,264.34', '133.88', '848.06', '800.38', '53.30', '1.51', '134.38', '0.40', '353.67', '183.18', '130.78', '306.71', '3,825.41', '3,051.19', '313.16', '1,622.43', '73.27', '35.01', '847.93', '272.07', '7.96', '315.93', '2.70', '847.93', '15.46', '7.09', '13.56', '22.89', '57.74', '224.82', '5.00', '78.03', '15.65', '3.78', '296.37']\n",
      "['미국 USD', '유럽연합 EUR', '일본 JPY (100엔)', '중국 CNY', '홍콩 HKD', '대만 TWD', '영국 GBP', '오만 OMR', '캐나다 CAD', '스위스 CHF', '스웨덴 SEK', '호주 AUD', '뉴질랜드 NZD', '체코 CZK', '칠레 CLP', '터키 TRY', '몽골 MNT', '이스라엘 ILS', '덴마크 DKK', '노르웨이 NOK', '사우디아라비아 SAR', '쿠웨이트 KWD', '바레인 BHD', '아랍에미리트 AED', '요르단 JOD', '이집트 EGP', '태국 THB', '싱가포르 SGD', '말레이시아 MYR', '인도네시아 IDR 100', '카타르 QAR', '카자흐스탄 KZT', '브루나이 BND', '인도 INR', '파키스탄 PKR', '방글라데시 BDT', '필리핀 PHP', '멕시코 MXN', '브라질 BRL', '베트남 VND 100', '남아프리카 공화국 ZAR', '러시아 RUB', '헝가리 HUF', '폴란드 PLN']\n",
      "['1,150.30', '1,362.42', '1,048.25', '177.21', '147.90', '41.14', '1,599.43', '2,987.87', '918.40', '1,264.34', '133.88', '848.06', '800.38', '53.30', '1.51', '134.38', '0.40', '353.67', '183.18', '130.78', '306.71', '3,825.41', '3,051.19', '313.16', '1,622.43', '73.27', '35.01', '847.93', '272.07', '7.96', '315.93', '2.70', '847.93', '15.46', '7.09', '13.56', '22.89', '57.74', '224.82', '5.00', '78.03', '15.65', '3.78', '296.37']\n"
     ]
    }
   ],
   "source": [
    "# 네이버 증권 내의 환율의 iframe만 따오기\n",
    "url = 'https://finance.naver.com/marketindex/exchangeList.nhn' # 뒤쪽의 상대경로만 바꿔주면 됨\n",
    "res = req.get(url) # url으로 http를 가져오고\n",
    "soup = bs(res.text, 'html.parser') # 그걸 html로 parsing\n",
    "\n",
    "tds = soup.find_all(\"td\")\n",
    "\n",
    "names = []\n",
    "for td in tds:\n",
    "    if td.find_all(\"a\") == []:\n",
    "        continue\n",
    "    names.append(td.get_text(strip=True))\n",
    "\n",
    "prices = []\n",
    "for td in tds:\n",
    "    if 'class' in td.attrs:\n",
    "        if 'sale' in td.attrs[\"class\"]:\n",
    "            prices.append(td.get_text(strip=True))\n",
    "\n",
    "print(names)\n",
    "print(prices)\n",
    "\n",
    "names = []\n",
    "for td in soup.select(\"td.tit\"):\n",
    "    names.append(td.get_text(strip=True))\n",
    "\n",
    "prices = []\n",
    "for td in soup.select(\"td.sale\"):\n",
    "    prices.append(td.get_text(strip=True))\n",
    "\n",
    "\n",
    "print(names)\n",
    "print(prices)"
   ]
  }
 ],
 "metadata": {
  "interpreter": {
   "hash": "737adab86a857289fc3bb162d0b4f640b26cc80f7c2ae1cce2eb6b9aa0f64168"
  },
  "kernelspec": {
   "display_name": "Python 3.9.4 64-bit ('base': conda)",
   "name": "python3"
  },
  "language_info": {
   "codemirror_mode": {
    "name": "ipython",
    "version": 3
   },
   "file_extension": ".py",
   "mimetype": "text/x-python",
   "name": "python",
   "nbconvert_exporter": "python",
   "pygments_lexer": "ipython3",
   "version": "3.9.4"
  },
  "orig_nbformat": 4
 },
 "nbformat": 4,
 "nbformat_minor": 2
}